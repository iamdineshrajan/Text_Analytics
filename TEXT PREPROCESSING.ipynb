{
 "cells": [
  {
   "cell_type": "code",
   "execution_count": 1,
   "metadata": {},
   "outputs": [],
   "source": [
    "                  #DR06\n",
    "#impoting nltk\n",
    "import nltk"
   ]
  },
  {
   "cell_type": "code",
   "execution_count": 2,
   "metadata": {},
   "outputs": [],
   "source": [
    "t1=\"Now, with the same commandd, we can give @the confidence regionn as well. Now, I am goin*g to set the heiight, whiCh = h here, as 2 and the l!ine type as 2. So, height is at which you want the line to be dra#@wn and line type is nothing but how you want the line to be drawn. So, you canhave dashed lines solid line, dashed and a dot. So, you have several options in there similarly, I also need a lower confidence limit. So, I am setting that to be = - 2 and for the same limit I am setting the line type to be = 2.\""
   ]
  },
  {
   "cell_type": "code",
   "execution_count": 3,
   "metadata": {},
   "outputs": [
    {
     "data": {
      "text/plain": [
       "'now, with the same commandd, we can give @the confidence regionn as well. now, i am goin*g to set the heiight, which = h here, as 2 and the l!ine type as 2. so, height is at which you want the line to be dra#@wn and line type is nothing but how you want the line to be drawn. so, you canhave dashed lines solid line, dashed and a dot. so, you have several options in there similarly, i also need a lower confidence limit. so, i am setting that to be = - 2 and for the same limit i am setting the line type to be = 2.'"
      ]
     },
     "execution_count": 3,
     "metadata": {},
     "output_type": "execute_result"
    }
   ],
   "source": [
    "#lower_case\n",
    "t1=t1.lower()\n",
    "t1"
   ]
  },
  {
   "cell_type": "code",
   "execution_count": 4,
   "metadata": {},
   "outputs": [
    {
     "data": {
      "text/plain": [
       "'now, with the same commandd, we can give @the confidence regionn as well. now, i am goin*g to set the heiight, which = h here, as 2 and the l!ine type as 2. so, height is at which you want the line to be dra#@wn and line type is nothing but how you want the line to be drawn. so, you canhave dashed lines solid line, dashed and a dot. so, you have several options in there similarly, i also need a lower confidence limit. so, i am setting that to be = - 2 and for the same limit i am setting the line type to be = 2.'"
      ]
     },
     "execution_count": 4,
     "metadata": {},
     "output_type": "execute_result"
    }
   ],
   "source": [
    "#remove white spaces\n",
    "t1=t1.strip()\n",
    "t1"
   ]
  },
  {
   "cell_type": "code",
   "execution_count": 5,
   "metadata": {},
   "outputs": [],
   "source": [
    "#importing string\n",
    "import string"
   ]
  },
  {
   "cell_type": "code",
   "execution_count": 6,
   "metadata": {},
   "outputs": [
    {
     "name": "stdout",
     "output_type": "stream",
     "text": [
      "!\"#$%&'()*+,-./:;<=>?@[\\]^_`{|}~\n"
     ]
    }
   ],
   "source": [
    "print(string.punctuation)"
   ]
  },
  {
   "cell_type": "code",
   "execution_count": 7,
   "metadata": {},
   "outputs": [],
   "source": [
    "#removing punctuations\n",
    "t2=\"\".join([char for char in t1 if char not in string.punctuation])"
   ]
  },
  {
   "cell_type": "code",
   "execution_count": 8,
   "metadata": {},
   "outputs": [
    {
     "data": {
      "text/plain": [
       "'now with the same commandd we can give the confidence regionn as well now i am going to set the heiight which  h here as 2 and the line type as 2 so height is at which you want the line to be drawn and line type is nothing but how you want the line to be drawn so you canhave dashed lines solid line dashed and a dot so you have several options in there similarly i also need a lower confidence limit so i am setting that to be   2 and for the same limit i am setting the line type to be  2'"
      ]
     },
     "execution_count": 8,
     "metadata": {},
     "output_type": "execute_result"
    }
   ],
   "source": [
    "t2"
   ]
  },
  {
   "cell_type": "code",
   "execution_count": 9,
   "metadata": {},
   "outputs": [],
   "source": [
    "#importing word tokenize from nltk\n",
    "from nltk import word_tokenize"
   ]
  },
  {
   "cell_type": "code",
   "execution_count": 10,
   "metadata": {},
   "outputs": [
    {
     "data": {
      "text/plain": [
       "['now',\n",
       " 'with',\n",
       " 'the',\n",
       " 'same',\n",
       " 'commandd',\n",
       " 'we',\n",
       " 'can',\n",
       " 'give',\n",
       " 'the',\n",
       " 'confidence',\n",
       " 'regionn',\n",
       " 'as',\n",
       " 'well',\n",
       " 'now',\n",
       " 'i',\n",
       " 'am',\n",
       " 'going',\n",
       " 'to',\n",
       " 'set',\n",
       " 'the',\n",
       " 'heiight',\n",
       " 'which',\n",
       " 'h',\n",
       " 'here',\n",
       " 'as',\n",
       " '2',\n",
       " 'and',\n",
       " 'the',\n",
       " 'line',\n",
       " 'type',\n",
       " 'as',\n",
       " '2',\n",
       " 'so',\n",
       " 'height',\n",
       " 'is',\n",
       " 'at',\n",
       " 'which',\n",
       " 'you',\n",
       " 'want',\n",
       " 'the',\n",
       " 'line',\n",
       " 'to',\n",
       " 'be',\n",
       " 'drawn',\n",
       " 'and',\n",
       " 'line',\n",
       " 'type',\n",
       " 'is',\n",
       " 'nothing',\n",
       " 'but',\n",
       " 'how',\n",
       " 'you',\n",
       " 'want',\n",
       " 'the',\n",
       " 'line',\n",
       " 'to',\n",
       " 'be',\n",
       " 'drawn',\n",
       " 'so',\n",
       " 'you',\n",
       " 'canhave',\n",
       " 'dashed',\n",
       " 'lines',\n",
       " 'solid',\n",
       " 'line',\n",
       " 'dashed',\n",
       " 'and',\n",
       " 'a',\n",
       " 'dot',\n",
       " 'so',\n",
       " 'you',\n",
       " 'have',\n",
       " 'several',\n",
       " 'options',\n",
       " 'in',\n",
       " 'there',\n",
       " 'similarly',\n",
       " 'i',\n",
       " 'also',\n",
       " 'need',\n",
       " 'a',\n",
       " 'lower',\n",
       " 'confidence',\n",
       " 'limit',\n",
       " 'so',\n",
       " 'i',\n",
       " 'am',\n",
       " 'setting',\n",
       " 'that',\n",
       " 'to',\n",
       " 'be',\n",
       " '2',\n",
       " 'and',\n",
       " 'for',\n",
       " 'the',\n",
       " 'same',\n",
       " 'limit',\n",
       " 'i',\n",
       " 'am',\n",
       " 'setting',\n",
       " 'the',\n",
       " 'line',\n",
       " 'type',\n",
       " 'to',\n",
       " 'be',\n",
       " '2']"
      ]
     },
     "execution_count": 10,
     "metadata": {},
     "output_type": "execute_result"
    }
   ],
   "source": [
    "#tokenization of words in text\n",
    "t3=word_tokenize(t2)\n",
    "t3"
   ]
  },
  {
   "cell_type": "code",
   "execution_count": 11,
   "metadata": {},
   "outputs": [],
   "source": [
    "#importing stopwords from nltk.corpus\n",
    "from nltk.corpus import stopwords"
   ]
  },
  {
   "cell_type": "code",
   "execution_count": 12,
   "metadata": {},
   "outputs": [
    {
     "data": {
      "text/plain": [
       "['i',\n",
       " 'me',\n",
       " 'my',\n",
       " 'myself',\n",
       " 'we',\n",
       " 'our',\n",
       " 'ours',\n",
       " 'ourselves',\n",
       " 'you',\n",
       " \"you're\",\n",
       " \"you've\",\n",
       " \"you'll\",\n",
       " \"you'd\",\n",
       " 'your',\n",
       " 'yours',\n",
       " 'yourself',\n",
       " 'yourselves',\n",
       " 'he',\n",
       " 'him',\n",
       " 'his',\n",
       " 'himself',\n",
       " 'she',\n",
       " \"she's\",\n",
       " 'her',\n",
       " 'hers',\n",
       " 'herself',\n",
       " 'it',\n",
       " \"it's\",\n",
       " 'its',\n",
       " 'itself',\n",
       " 'they',\n",
       " 'them',\n",
       " 'their',\n",
       " 'theirs',\n",
       " 'themselves',\n",
       " 'what',\n",
       " 'which',\n",
       " 'who',\n",
       " 'whom',\n",
       " 'this',\n",
       " 'that',\n",
       " \"that'll\",\n",
       " 'these',\n",
       " 'those',\n",
       " 'am',\n",
       " 'is',\n",
       " 'are',\n",
       " 'was',\n",
       " 'were',\n",
       " 'be',\n",
       " 'been',\n",
       " 'being',\n",
       " 'have',\n",
       " 'has',\n",
       " 'had',\n",
       " 'having',\n",
       " 'do',\n",
       " 'does',\n",
       " 'did',\n",
       " 'doing',\n",
       " 'a',\n",
       " 'an',\n",
       " 'the',\n",
       " 'and',\n",
       " 'but',\n",
       " 'if',\n",
       " 'or',\n",
       " 'because',\n",
       " 'as',\n",
       " 'until',\n",
       " 'while',\n",
       " 'of',\n",
       " 'at',\n",
       " 'by',\n",
       " 'for',\n",
       " 'with',\n",
       " 'about',\n",
       " 'against',\n",
       " 'between',\n",
       " 'into',\n",
       " 'through',\n",
       " 'during',\n",
       " 'before',\n",
       " 'after',\n",
       " 'above',\n",
       " 'below',\n",
       " 'to',\n",
       " 'from',\n",
       " 'up',\n",
       " 'down',\n",
       " 'in',\n",
       " 'out',\n",
       " 'on',\n",
       " 'off',\n",
       " 'over',\n",
       " 'under',\n",
       " 'again',\n",
       " 'further',\n",
       " 'then',\n",
       " 'once',\n",
       " 'here',\n",
       " 'there',\n",
       " 'when',\n",
       " 'where',\n",
       " 'why',\n",
       " 'how',\n",
       " 'all',\n",
       " 'any',\n",
       " 'both',\n",
       " 'each',\n",
       " 'few',\n",
       " 'more',\n",
       " 'most',\n",
       " 'other',\n",
       " 'some',\n",
       " 'such',\n",
       " 'no',\n",
       " 'nor',\n",
       " 'not',\n",
       " 'only',\n",
       " 'own',\n",
       " 'same',\n",
       " 'so',\n",
       " 'than',\n",
       " 'too',\n",
       " 'very',\n",
       " 's',\n",
       " 't',\n",
       " 'can',\n",
       " 'will',\n",
       " 'just',\n",
       " 'don',\n",
       " \"don't\",\n",
       " 'should',\n",
       " \"should've\",\n",
       " 'now',\n",
       " 'd',\n",
       " 'll',\n",
       " 'm',\n",
       " 'o',\n",
       " 're',\n",
       " 've',\n",
       " 'y',\n",
       " 'ain',\n",
       " 'aren',\n",
       " \"aren't\",\n",
       " 'couldn',\n",
       " \"couldn't\",\n",
       " 'didn',\n",
       " \"didn't\",\n",
       " 'doesn',\n",
       " \"doesn't\",\n",
       " 'hadn',\n",
       " \"hadn't\",\n",
       " 'hasn',\n",
       " \"hasn't\",\n",
       " 'haven',\n",
       " \"haven't\",\n",
       " 'isn',\n",
       " \"isn't\",\n",
       " 'ma',\n",
       " 'mightn',\n",
       " \"mightn't\",\n",
       " 'mustn',\n",
       " \"mustn't\",\n",
       " 'needn',\n",
       " \"needn't\",\n",
       " 'shan',\n",
       " \"shan't\",\n",
       " 'shouldn',\n",
       " \"shouldn't\",\n",
       " 'wasn',\n",
       " \"wasn't\",\n",
       " 'weren',\n",
       " \"weren't\",\n",
       " 'won',\n",
       " \"won't\",\n",
       " 'wouldn',\n",
       " \"wouldn't\"]"
      ]
     },
     "execution_count": 12,
     "metadata": {},
     "output_type": "execute_result"
    }
   ],
   "source": [
    "#stopwords in english\n",
    "t4=stopwords.words('english')\n",
    "t4"
   ]
  },
  {
   "cell_type": "code",
   "execution_count": 13,
   "metadata": {},
   "outputs": [
    {
     "data": {
      "text/plain": [
       "['commandd',\n",
       " 'give',\n",
       " 'confidence',\n",
       " 'regionn',\n",
       " 'well',\n",
       " 'going',\n",
       " 'set',\n",
       " 'heiight',\n",
       " 'h',\n",
       " '2',\n",
       " 'line',\n",
       " 'type',\n",
       " '2',\n",
       " 'height',\n",
       " 'want',\n",
       " 'line',\n",
       " 'drawn',\n",
       " 'line',\n",
       " 'type',\n",
       " 'nothing',\n",
       " 'want',\n",
       " 'line',\n",
       " 'drawn',\n",
       " 'canhave',\n",
       " 'dashed',\n",
       " 'lines',\n",
       " 'solid',\n",
       " 'line',\n",
       " 'dashed',\n",
       " 'dot',\n",
       " 'several',\n",
       " 'options',\n",
       " 'similarly',\n",
       " 'also',\n",
       " 'need',\n",
       " 'lower',\n",
       " 'confidence',\n",
       " 'limit',\n",
       " 'setting',\n",
       " '2',\n",
       " 'limit',\n",
       " 'setting',\n",
       " 'line',\n",
       " 'type',\n",
       " '2']"
      ]
     },
     "execution_count": 13,
     "metadata": {},
     "output_type": "execute_result"
    }
   ],
   "source": [
    "#removing stopwords from the text\n",
    "t5=[word for word in t3 if word not in t4]\n",
    "t5"
   ]
  },
  {
   "cell_type": "code",
   "execution_count": 14,
   "metadata": {},
   "outputs": [],
   "source": [
    "#importing PorterStemmer from nltk.stem.porter for STEMMING\n",
    "from nltk.stem.porter import PorterStemmer"
   ]
  },
  {
   "cell_type": "code",
   "execution_count": 15,
   "metadata": {},
   "outputs": [
    {
     "data": {
      "text/plain": [
       "<PorterStemmer>"
      ]
     },
     "execution_count": 15,
     "metadata": {},
     "output_type": "execute_result"
    }
   ],
   "source": [
    "t6=PorterStemmer()\n",
    "t6"
   ]
  },
  {
   "cell_type": "code",
   "execution_count": 16,
   "metadata": {},
   "outputs": [
    {
     "data": {
      "text/plain": [
       "['commandd',\n",
       " 'give',\n",
       " 'confid',\n",
       " 'regionn',\n",
       " 'well',\n",
       " 'go',\n",
       " 'set',\n",
       " 'heiight',\n",
       " 'h',\n",
       " '2',\n",
       " 'line',\n",
       " 'type',\n",
       " '2',\n",
       " 'height',\n",
       " 'want',\n",
       " 'line',\n",
       " 'drawn',\n",
       " 'line',\n",
       " 'type',\n",
       " 'noth',\n",
       " 'want',\n",
       " 'line',\n",
       " 'drawn',\n",
       " 'canhav',\n",
       " 'dash',\n",
       " 'line',\n",
       " 'solid',\n",
       " 'line',\n",
       " 'dash',\n",
       " 'dot',\n",
       " 'sever',\n",
       " 'option',\n",
       " 'similarli',\n",
       " 'also',\n",
       " 'need',\n",
       " 'lower',\n",
       " 'confid',\n",
       " 'limit',\n",
       " 'set',\n",
       " '2',\n",
       " 'limit',\n",
       " 'set',\n",
       " 'line',\n",
       " 'type',\n",
       " '2']"
      ]
     },
     "execution_count": 16,
     "metadata": {},
     "output_type": "execute_result"
    }
   ],
   "source": [
    "#stemming\n",
    "t7=[t6.stem(word) for word in t5]\n",
    "t7"
   ]
  },
  {
   "cell_type": "code",
   "execution_count": 17,
   "metadata": {},
   "outputs": [
    {
     "name": "stdout",
     "output_type": "stream",
     "text": [
      "commandd\n",
      "give\n",
      "confid\n",
      "regionn\n",
      "well\n",
      "go\n",
      "set\n",
      "heiight\n",
      "h\n",
      "2\n",
      "line\n",
      "type\n",
      "2\n",
      "height\n",
      "want\n",
      "line\n",
      "drawn\n",
      "line\n",
      "type\n",
      "noth\n",
      "want\n",
      "line\n",
      "drawn\n",
      "canhav\n",
      "dash\n",
      "line\n",
      "solid\n",
      "line\n",
      "dash\n",
      "dot\n",
      "sever\n",
      "option\n",
      "similarli\n",
      "also\n",
      "need\n",
      "lower\n",
      "confid\n",
      "limit\n",
      "set\n",
      "2\n",
      "limit\n",
      "set\n",
      "line\n",
      "type\n",
      "2\n"
     ]
    }
   ],
   "source": [
    "for word in t5:\n",
    "    print(t6.stem(word))"
   ]
  },
  {
   "cell_type": "code",
   "execution_count": 18,
   "metadata": {},
   "outputs": [],
   "source": [
    "#importing WordNetLemmatizer from nltk.stem\n",
    "from nltk.stem import WordNetLemmatizer"
   ]
  },
  {
   "cell_type": "code",
   "execution_count": 19,
   "metadata": {},
   "outputs": [
    {
     "data": {
      "text/plain": [
       "<WordNetLemmatizer>"
      ]
     },
     "execution_count": 19,
     "metadata": {},
     "output_type": "execute_result"
    }
   ],
   "source": [
    "#lemmatizing process\n",
    "t8=WordNetLemmatizer()\n",
    "t8"
   ]
  },
  {
   "cell_type": "code",
   "execution_count": 20,
   "metadata": {},
   "outputs": [
    {
     "data": {
      "text/plain": [
       "[]"
      ]
     },
     "execution_count": 20,
     "metadata": {},
     "output_type": "execute_result"
    }
   ],
   "source": [
    "#creating an empty list\n",
    "t9=[]\n",
    "t9"
   ]
  },
  {
   "cell_type": "code",
   "execution_count": 21,
   "metadata": {},
   "outputs": [
    {
     "name": "stdout",
     "output_type": "stream",
     "text": [
      "commandd\n",
      "give\n",
      "confidence\n",
      "regionn\n",
      "well\n",
      "going\n",
      "set\n",
      "heiight\n",
      "h\n",
      "2\n",
      "line\n",
      "type\n",
      "2\n",
      "height\n",
      "want\n",
      "line\n",
      "drawn\n",
      "line\n",
      "type\n",
      "nothing\n",
      "want\n",
      "line\n",
      "drawn\n",
      "canhave\n",
      "dashed\n",
      "line\n",
      "solid\n",
      "line\n",
      "dashed\n",
      "dot\n",
      "several\n",
      "option\n",
      "similarly\n",
      "also\n",
      "need\n",
      "lower\n",
      "confidence\n",
      "limit\n",
      "setting\n",
      "2\n",
      "limit\n",
      "setting\n",
      "line\n",
      "type\n",
      "2\n"
     ]
    }
   ],
   "source": [
    "#lemmatization \n",
    "for word in t5:\n",
    "    t9.append(t8.lemmatize(word))\n",
    "    print(t8.lemmatize(word))"
   ]
  },
  {
   "cell_type": "code",
   "execution_count": 22,
   "metadata": {},
   "outputs": [],
   "source": [
    "#importing pos_tag from nltk package\n",
    "from nltk import pos_tag"
   ]
  },
  {
   "cell_type": "code",
   "execution_count": 23,
   "metadata": {},
   "outputs": [
    {
     "data": {
      "text/plain": [
       "[('commandd', 'NNS'),\n",
       " ('give', 'VBP'),\n",
       " ('confidence', 'NN'),\n",
       " ('regionn', 'NN'),\n",
       " ('well', 'RB'),\n",
       " ('going', 'VBG'),\n",
       " ('set', 'VBN'),\n",
       " ('heiight', 'JJ'),\n",
       " ('h', 'NN'),\n",
       " ('2', 'CD'),\n",
       " ('line', 'NN'),\n",
       " ('type', 'NN'),\n",
       " ('2', 'CD'),\n",
       " ('height', 'NN'),\n",
       " ('want', 'VBP'),\n",
       " ('line', 'NN'),\n",
       " ('drawn', 'VBN'),\n",
       " ('line', 'NN'),\n",
       " ('type', 'NN'),\n",
       " ('nothing', 'NN'),\n",
       " ('want', 'VBP'),\n",
       " ('line', 'NN'),\n",
       " ('drawn', 'VBN'),\n",
       " ('canhave', 'VBP'),\n",
       " ('dashed', 'VBN'),\n",
       " ('lines', 'NNS'),\n",
       " ('solid', 'JJ'),\n",
       " ('line', 'NN'),\n",
       " ('dashed', 'VBN'),\n",
       " ('dot', 'IN'),\n",
       " ('several', 'JJ'),\n",
       " ('options', 'NNS'),\n",
       " ('similarly', 'RB'),\n",
       " ('also', 'RB'),\n",
       " ('need', 'VB'),\n",
       " ('lower', 'JJR'),\n",
       " ('confidence', 'NN'),\n",
       " ('limit', 'NN'),\n",
       " ('setting', 'VBG'),\n",
       " ('2', 'CD'),\n",
       " ('limit', 'NN'),\n",
       " ('setting', 'VBG'),\n",
       " ('line', 'NN'),\n",
       " ('type', 'NN'),\n",
       " ('2', 'CD')]"
      ]
     },
     "execution_count": 23,
     "metadata": {},
     "output_type": "execute_result"
    }
   ],
   "source": [
    "t10=pos_tag(t5)\n",
    "t10"
   ]
  },
  {
   "cell_type": "code",
   "execution_count": 24,
   "metadata": {},
   "outputs": [],
   "source": [
    "#importing Frequency distribution from nltk.probability\n",
    "from nltk.probability import FreqDist"
   ]
  },
  {
   "cell_type": "code",
   "execution_count": null,
   "metadata": {},
   "outputs": [],
   "source": []
  },
  {
   "cell_type": "code",
   "execution_count": 25,
   "metadata": {},
   "outputs": [
    {
     "data": {
      "text/plain": [
       "FreqDist({'line': 6, '2': 4, 'type': 3, 'confidence': 2, 'want': 2, 'drawn': 2, 'dashed': 2, 'limit': 2, 'setting': 2, 'commandd': 1, ...})"
      ]
     },
     "execution_count": 25,
     "metadata": {},
     "output_type": "execute_result"
    }
   ],
   "source": [
    "t11=FreqDist(t5)\n",
    "t11"
   ]
  },
  {
   "cell_type": "code",
   "execution_count": 32,
   "metadata": {},
   "outputs": [
    {
     "name": "stdout",
     "output_type": "stream",
     "text": [
      "      line          2       type confidence       want      drawn     dashed      limit    setting   commandd       give    regionn       well      going        set    heiight          h     height    nothing    canhave      lines      solid        dot    several    options  similarly       also       need      lower \n",
      "         6          4          3          2          2          2          2          2          2          1          1          1          1          1          1          1          1          1          1          1          1          1          1          1          1          1          1          1          1 \n"
     ]
    }
   ],
   "source": [
    "t11.tabulate()"
   ]
  },
  {
   "cell_type": "code",
   "execution_count": 33,
   "metadata": {},
   "outputs": [
    {
     "name": "stdout",
     "output_type": "stream",
     "text": [
      "[('Bharathiar', 'University'), ('University', 'is'), ('is', 'the'), ('the', 'best'), ('best', 'source'), ('source', 'to'), ('to', 'learn'), ('learn', 'data'), ('data', 'science')]\n"
     ]
    }
   ],
   "source": [
    "import nltk\n",
    "word_data = \"Bharathiar University is the best source to learn data science\"\n",
    "nltk_tokens = nltk.word_tokenize(word_data)  \t\n",
    "\n",
    "print(list(nltk.bigrams(nltk_tokens)))"
   ]
  },
  {
   "cell_type": "code",
   "execution_count": null,
   "metadata": {},
   "outputs": [],
   "source": []
  }
 ],
 "metadata": {
  "kernelspec": {
   "display_name": "Python 3",
   "language": "python",
   "name": "python3"
  },
  "language_info": {
   "codemirror_mode": {
    "name": "ipython",
    "version": 3
   },
   "file_extension": ".py",
   "mimetype": "text/x-python",
   "name": "python",
   "nbconvert_exporter": "python",
   "pygments_lexer": "ipython3",
   "version": "3.8.8"
  },
  "varInspector": {
   "cols": {
    "lenName": 16,
    "lenType": 16,
    "lenVar": 40
   },
   "kernels_config": {
    "python": {
     "delete_cmd_postfix": "",
     "delete_cmd_prefix": "del ",
     "library": "var_list.py",
     "varRefreshCmd": "print(var_dic_list())"
    },
    "r": {
     "delete_cmd_postfix": ") ",
     "delete_cmd_prefix": "rm(",
     "library": "var_list.r",
     "varRefreshCmd": "cat(var_dic_list()) "
    }
   },
   "types_to_exclude": [
    "module",
    "function",
    "builtin_function_or_method",
    "instance",
    "_Feature"
   ],
   "window_display": false
  }
 },
 "nbformat": 4,
 "nbformat_minor": 4
}
